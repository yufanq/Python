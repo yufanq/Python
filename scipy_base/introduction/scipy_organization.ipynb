{
 "cells": [
  {
   "cell_type": "code",
   "execution_count": 1,
   "metadata": {
    "collapsed": true
   },
   "outputs": [],
   "source": [
    "import numpy as np\n",
    "import matplotlib as mpl\n",
    "import matplotlib.pyplot as plt"
   ]
  },
  {
   "cell_type": "code",
   "execution_count": 2,
   "metadata": {},
   "outputs": [],
   "source": [
    "from scipy import linalg,optimize"
   ]
  },
  {
   "cell_type": "code",
   "execution_count": 3,
   "metadata": {},
   "outputs": [
    {
     "name": "stdout",
     "output_type": "stream",
     "text": [
      " fmin(func, x0, args=(), xtol=0.0001, ftol=0.0001, maxiter=None, maxfun=None,\n      full_output=0, disp=1, retall=0, callback=None, initial_simplex=None)\n\nMinimize a function using the downhill simplex algorithm.\n\nThis algorithm only uses function values, not derivatives or second\nderivatives.\n\nParameters\n----------\nfunc : callable func(x,*args)\n    The objective function to be minimized.\nx0 : ndarray\n    Initial guess.\nargs : tuple, optional\n    Extra arguments passed to func, i.e. ``f(x,*args)``.\nxtol : float, optional\n    Absolute error in xopt between iterations that is acceptable for\n    convergence.\nftol : number, optional\n    Absolute error in func(xopt) between iterations that is acceptable for\n    convergence.\nmaxiter : int, optional\n    Maximum number of iterations to perform.\nmaxfun : number, optional\n    Maximum number of function evaluations to make.\nfull_output : bool, optional\n    Set to True if fopt and warnflag outputs are desired.\ndisp : bool, optional\n    Set to True to print convergence messages.\nretall : bool, optional\n    Set to True to return list of solutions at each iteration.\ncallback : callable, optional\n    Called after each iteration, as callback(xk), where xk is the\n    current parameter vector.\ninitial_simplex : array_like of shape (N + 1, N), optional\n    Initial simplex. If given, overrides `x0`.\n    ``initial_simplex[j,:]`` should contain the coordinates of\n    the j-th vertex of the ``N+1`` vertices in the simplex, where\n    ``N`` is the dimension.\n\nReturns\n-------\nxopt : ndarray\n    Parameter that minimizes function.\nfopt : float\n    Value of function at minimum: ``fopt = func(xopt)``.\niter : int\n    Number of iterations performed.\nfuncalls : int\n    Number of function calls made.\nwarnflag : int\n    1 : Maximum number of function evaluations made.\n    2 : Maximum number of iterations reached.\nallvecs : list\n    Solution at each iteration.\n\nSee also\n--------\nminimize: Interface to minimization algorithms for multivariate\n    functions. See the 'Nelder-Mead' `method` in particular.\n\nNotes\n-----\nUses a Nelder-Mead simplex algorithm to find the minimum of function of\none or more variables.\n\nThis algorithm has a long history of successful use in applications.\nBut it will usually be slower than an algorithm that uses first or\nsecond derivative information. In practice it can have poor\nperformance in high-dimensional problems and is not robust to\nminimizing complicated functions. Additionally, there currently is no\ncomplete theory describing when the algorithm will successfully\nconverge to the minimum, or how fast it will if it does. Both the ftol and\nxtol criteria must be met for convergence.\n\nExamples\n--------\n>>> def f(x):\n...     return x**2\n\n>>> from scipy import optimize\n\n>>> minimum = optimize.fmin(f, 1)\nOptimization terminated successfully.\n         Current function value: 0.000000\n         Iterations: 17\n         Function evaluations: 34\n>>> minimum[0]\n-8.8817841970012523e-16\n\nReferences\n----------\n.. [1] Nelder, J.A. and Mead, R. (1965), \"A simplex method for function\n       minimization\", The Computer Journal, 7, pp. 308-313\n\n.. [2] Wright, M.H. (1996), \"Direct Search Methods: Once Scorned, Now\n       Respectable\", in Numerical Analysis 1995, Proceedings of the\n       1995 Dundee Biennial Conference in Numerical Analysis, D.F.\n       Griffiths and G.A. Watson (Eds.), Addison Wesley Longman,\n       Harlow, UK, pp. 191-208.\n"
     ]
    }
   ],
   "source": [
    "np.info(optimize.fmin)"
   ]
  },
  {
   "cell_type": "code",
   "execution_count": null,
   "metadata": {},
   "outputs": [],
   "source": []
  }
 ],
 "metadata": {
  "kernelspec": {
   "display_name": "Python 2",
   "language": "python",
   "name": "python2"
  },
  "language_info": {
   "codemirror_mode": {
    "name": "ipython",
    "version": 2
   },
   "file_extension": ".py",
   "mimetype": "text/x-python",
   "name": "python",
   "nbconvert_exporter": "python",
   "pygments_lexer": "ipython2",
   "version": "2.7.6"
  }
 },
 "nbformat": 4,
 "nbformat_minor": 0
}
